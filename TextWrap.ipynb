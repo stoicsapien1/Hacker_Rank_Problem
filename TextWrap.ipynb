{
  "nbformat": 4,
  "nbformat_minor": 0,
  "metadata": {
    "colab": {
      "provenance": [],
      "authorship_tag": "ABX9TyPTJI6UKkOUB0VDyeWlWCJB",
      "include_colab_link": true
    },
    "kernelspec": {
      "name": "python3",
      "display_name": "Python 3"
    },
    "language_info": {
      "name": "python"
    }
  },
  "cells": [
    {
      "cell_type": "markdown",
      "metadata": {
        "id": "view-in-github",
        "colab_type": "text"
      },
      "source": [
        "<a href=\"https://colab.research.google.com/github/stoicsapien1/Hacker_Rank_Problem/blob/main/TextWrap.ipynb\" target=\"_parent\"><img src=\"https://colab.research.google.com/assets/colab-badge.svg\" alt=\"Open In Colab\"/></a>"
      ]
    },
    {
      "cell_type": "code",
      "source": [
        "import textwrap\n",
        "\n",
        "def wrap(string, max_width):\n",
        "        s=textwrap.fill(string,width=max_width)\n",
        "        return s\n",
        "\n",
        "\n",
        "if __name__ == '__main__':\n",
        "    string, max_width = input(), int(input())\n",
        "    result = wrap(string, max_width)\n",
        "    print(result)"
      ],
      "metadata": {
        "colab": {
          "base_uri": "https://localhost:8080/"
        },
        "id": "lYbnxscI1w8x",
        "outputId": "b5552448-7ea9-46bb-81d4-1422aef90f2a"
      },
      "execution_count": 5,
      "outputs": [
        {
          "output_type": "stream",
          "name": "stdout",
          "text": [
            "This\n",
            "is a\n",
            "long\n",
            "piec\n",
            "e of\n",
            "text\n",
            "that\n",
            "need\n",
            "s to\n",
            "be w\n",
            "rapp\n",
            "ed\n",
            "into\n",
            "mult\n",
            "iple\n",
            "line\n",
            "s. L\n",
            "et's\n",
            "see\n",
            "how \n",
            "text\n",
            "wrap\n",
            ".fil\n",
            "l ha\n",
            "ndle\n",
            "s\n",
            "it.\n"
          ]
        }
      ]
    },
    {
      "cell_type": "code",
      "source": [],
      "metadata": {
        "id": "YnbQ8xIFMQmW"
      },
      "execution_count": null,
      "outputs": []
    }
  ]
}