{
  "nbformat": 4,
  "nbformat_minor": 0,
  "metadata": {
    "colab": {
      "provenance": [],
      "authorship_tag": "ABX9TyPv85Oo1LTfJxm1OTraJ854",
      "include_colab_link": true
    },
    "kernelspec": {
      "name": "python3",
      "display_name": "Python 3"
    },
    "language_info": {
      "name": "python"
    }
  },
  "cells": [
    {
      "cell_type": "markdown",
      "metadata": {
        "id": "view-in-github",
        "colab_type": "text"
      },
      "source": [
        "<a href=\"https://colab.research.google.com/github/stoicsapien1/Hacker_Rank_Problem/blob/main/String_Validatoripynb.ipynb\" target=\"_parent\"><img src=\"https://colab.research.google.com/assets/colab-badge.svg\" alt=\"Open In Colab\"/></a>"
      ]
    },
    {
      "cell_type": "markdown",
      "source": [
        "Link:https://www.hackerrank.com/challenges/string-validators/problem?isFullScreen=true"
      ],
      "metadata": {
        "id": "4Rhjfs_BwFsZ"
      }
    },
    {
      "cell_type": "code",
      "execution_count": null,
      "metadata": {
        "id": "NwtyAtFNv-bp"
      },
      "outputs": [],
      "source": [
        "if __name__ == '__main__':\n",
        "    s = input()\n",
        "    isalnum=False\n",
        "    isalpha=False\n",
        "    isdigit=False\n",
        "    islower=False\n",
        "    islower=False\n",
        "    for char in s:\n",
        "        if char.isalnum():\n",
        "            isalnum=True\n",
        "        if char.isalpha():\n",
        "            isalpha=True\n",
        "        if char.isdigit():\n",
        "            isdigit=True\n",
        "        if char.islower():\n",
        "            islower=True\n",
        "        if char.isupper():\n",
        "            isupper=True\n",
        "    print(isalnum)\n",
        "    print(isalpha)\n",
        "    print(isdigit)\n",
        "    print(islower)\n",
        "    print(isupper)\n",
        "\n"
      ]
    }
  ]
}