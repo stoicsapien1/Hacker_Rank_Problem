{
 "cells": [
  {
   "cell_type": "code",
   "execution_count": 15,
   "id": "12bbc420",
   "metadata": {},
   "outputs": [
    {
     "name": "stdout",
     "output_type": "stream",
     "text": [
      "they are anagram\n"
     ]
    }
   ],
   "source": [
    "s1=\"a gentleman\"\n",
    "s2=\"elegant man\"\n",
    "s1=s1.lower()\n",
    "s2=s2.lower()\n",
    "l1=list(s1)\n",
    "l2=list(s2)\n",
    "l1=sorted(l1)\n",
    "l2=sorted(l2)\n",
    "if l1==l2:\n",
    "    print(\"they are anagram\")"
   ]
  },
  {
   "cell_type": "code",
   "execution_count": 16,
   "id": "736bbf27",
   "metadata": {},
   "outputs": [
    {
     "data": {
      "text/plain": [
       "[' ', 'a', 'a', 'e', 'e', 'g', 'l', 'm', 'n', 'n', 't']"
      ]
     },
     "execution_count": 16,
     "metadata": {},
     "output_type": "execute_result"
    }
   ],
   "source": [
    "l1"
   ]
  },
  {
   "cell_type": "code",
   "execution_count": 17,
   "id": "952b7d44",
   "metadata": {},
   "outputs": [
    {
     "data": {
      "text/plain": [
       "[' ', 'a', 'a', 'e', 'e', 'g', 'l', 'm', 'n', 'n', 't']"
      ]
     },
     "execution_count": 17,
     "metadata": {},
     "output_type": "execute_result"
    }
   ],
   "source": [
    "l2"
   ]
  },
  {
   "cell_type": "code",
   "execution_count": 18,
   "id": "adb7a27b",
   "metadata": {},
   "outputs": [],
   "source": [
    "l1=sorted(l1)\n",
    "l2=sorted(l2)"
   ]
  },
  {
   "cell_type": "code",
   "execution_count": 19,
   "id": "3367bbe8",
   "metadata": {},
   "outputs": [
    {
     "data": {
      "text/plain": [
       "[' ', 'a', 'a', 'e', 'e', 'g', 'l', 'm', 'n', 'n', 't']"
      ]
     },
     "execution_count": 19,
     "metadata": {},
     "output_type": "execute_result"
    }
   ],
   "source": [
    "l1"
   ]
  },
  {
   "cell_type": "code",
   "execution_count": 20,
   "id": "2a0e9cd9",
   "metadata": {},
   "outputs": [
    {
     "data": {
      "text/plain": [
       "[' ', 'a', 'a', 'e', 'e', 'g', 'l', 'm', 'n', 'n', 't']"
      ]
     },
     "execution_count": 20,
     "metadata": {},
     "output_type": "execute_result"
    }
   ],
   "source": [
    "l2"
   ]
  },
  {
   "cell_type": "code",
   "execution_count": 21,
   "id": "8bb1be53",
   "metadata": {},
   "outputs": [
    {
     "name": "stdout",
     "output_type": "stream",
     "text": [
      "they are anagram\n"
     ]
    }
   ],
   "source": [
    "if l1==l2:\n",
    "    print(\"they are anagram\")"
   ]
  },
  {
   "cell_type": "code",
   "execution_count": 39,
   "id": "c0d4e946",
   "metadata": {},
   "outputs": [
    {
     "name": "stdout",
     "output_type": "stream",
     "text": [
      "Anagram\n"
     ]
    }
   ],
   "source": [
    "s1=\"a gentleman\"\n",
    "s2=\"elegant man\"\n",
    "set1=set(s1)\n",
    "set2=set(s2)\n",
    "d1={}\n",
    "for i in set1:\n",
    "    if i in s1:\n",
    "        d1[i]=s1.count(i)\n",
    "d2={}\n",
    "for i in set2:\n",
    "    if i in s2:\n",
    "        d2[i]=s2.count(i)\n",
    "if d1==d2:\n",
    "    print(\"Anagram\")"
   ]
  },
  {
   "cell_type": "code",
   "execution_count": 24,
   "id": "334b039e",
   "metadata": {},
   "outputs": [],
   "source": [
    "set1=set(s1)\n",
    "set2=set(s2)"
   ]
  },
  {
   "cell_type": "code",
   "execution_count": 25,
   "id": "84e2c57c",
   "metadata": {},
   "outputs": [
    {
     "data": {
      "text/plain": [
       "{' ', 'a', 'e', 'g', 'l', 'm', 'n', 't'}"
      ]
     },
     "execution_count": 25,
     "metadata": {},
     "output_type": "execute_result"
    }
   ],
   "source": [
    "set1"
   ]
  },
  {
   "cell_type": "code",
   "execution_count": 26,
   "id": "5dda71f7",
   "metadata": {},
   "outputs": [
    {
     "data": {
      "text/plain": [
       "{' ', 'a', 'e', 'g', 'l', 'm', 'n', 't'}"
      ]
     },
     "execution_count": 26,
     "metadata": {},
     "output_type": "execute_result"
    }
   ],
   "source": [
    "set2"
   ]
  },
  {
   "cell_type": "code",
   "execution_count": 27,
   "id": "cf5dd49e",
   "metadata": {},
   "outputs": [],
   "source": [
    "d1={}\n",
    "for i in set1:\n",
    "    if i in s1:\n",
    "        d1[i]=s1.count(i)"
   ]
  },
  {
   "cell_type": "code",
   "execution_count": 28,
   "id": "c7b0694d",
   "metadata": {},
   "outputs": [
    {
     "data": {
      "text/plain": [
       "{'e': 2, 'l': 1, 't': 1, ' ': 1, 'm': 1, 'g': 1, 'a': 2, 'n': 2}"
      ]
     },
     "execution_count": 28,
     "metadata": {},
     "output_type": "execute_result"
    }
   ],
   "source": [
    "d1"
   ]
  },
  {
   "cell_type": "code",
   "execution_count": 32,
   "id": "9a156596",
   "metadata": {},
   "outputs": [],
   "source": [
    "d2={}\n",
    "for i in set2:\n",
    "    if i in s2:\n",
    "        d2[i]=s2.count(i)"
   ]
  },
  {
   "cell_type": "code",
   "execution_count": 33,
   "id": "682bd4f6",
   "metadata": {},
   "outputs": [
    {
     "data": {
      "text/plain": [
       "{'e': 2, 'l': 1, 't': 1, ' ': 1, 'm': 1, 'g': 1, 'a': 2, 'n': 2}"
      ]
     },
     "execution_count": 33,
     "metadata": {},
     "output_type": "execute_result"
    }
   ],
   "source": [
    "d2"
   ]
  },
  {
   "cell_type": "code",
   "execution_count": 35,
   "id": "ff087065",
   "metadata": {},
   "outputs": [
    {
     "data": {
      "text/plain": [
       "[' ', 'a', 'e', 'g', 'l', 'm', 'n', 't']"
      ]
     },
     "execution_count": 35,
     "metadata": {},
     "output_type": "execute_result"
    }
   ],
   "source": []
  },
  {
   "cell_type": "code",
   "execution_count": 36,
   "id": "c48bcd43",
   "metadata": {},
   "outputs": [
    {
     "name": "stdout",
     "output_type": "stream",
     "text": [
      "Anagram\n"
     ]
    }
   ],
   "source": [
    "if d1==d2:\n",
    "    print(\"Anagram\")"
   ]
  },
  {
   "cell_type": "code",
   "execution_count": 37,
   "id": "12de8075",
   "metadata": {},
   "outputs": [],
   "source": [
    "d2={'e': 2, 'l': 1, 't': 1, ' ': 1, 'g': 1, 'm': 1, 'a': 2, 'n': 2}"
   ]
  },
  {
   "cell_type": "code",
   "execution_count": 38,
   "id": "303e0b7f",
   "metadata": {},
   "outputs": [
    {
     "name": "stdout",
     "output_type": "stream",
     "text": [
      "anagram\n"
     ]
    }
   ],
   "source": [
    "if d1==d2:\n",
    "    print(\"anagram\")"
   ]
  },
  {
   "cell_type": "code",
   "execution_count": null,
   "id": "61a7661e",
   "metadata": {},
   "outputs": [],
   "source": []
  }
 ],
 "metadata": {
  "kernelspec": {
   "display_name": "Python 3 (ipykernel)",
   "language": "python",
   "name": "python3"
  },
  "language_info": {
   "codemirror_mode": {
    "name": "ipython",
    "version": 3
   },
   "file_extension": ".py",
   "mimetype": "text/x-python",
   "name": "python",
   "nbconvert_exporter": "python",
   "pygments_lexer": "ipython3",
   "version": "3.10.9"
  }
 },
 "nbformat": 4,
 "nbformat_minor": 5
}
